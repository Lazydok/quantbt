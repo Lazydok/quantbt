{
 "cells": [
  {
   "cell_type": "code",
   "execution_count": 1,
   "metadata": {},
   "outputs": [
    {
     "name": "stdout",
     "output_type": "stream",
     "text": [
      "✅ 라이브러리 import 완료\n"
     ]
    }
   ],
   "source": [
    "# 프로젝트 루트를 Python 경로에 추가\n",
    "import sys\n",
    "import os\n",
    "from pathlib import Path\n",
    "\n",
    "# 현재 위치에서 프로젝트 루트 찾기\n",
    "current_dir = Path.cwd()\n",
    "if 'examples' in str(current_dir):\n",
    "    # examples 폴더에서 실행하는 경우\n",
    "    project_root = current_dir.parent.parent\n",
    "else:\n",
    "    # 프로젝트 루트에서 실행하는 경우\n",
    "    project_root = current_dir\n",
    "\n",
    "# 프로젝트 루트를 Python 경로에 추가\n",
    "if str(project_root) not in sys.path:\n",
    "    sys.path.insert(0, str(project_root))\n",
    "\n",
    "# 필요한 라이브러리 import\n",
    "import asyncio\n",
    "from datetime import datetime\n",
    "import logging\n",
    "\n",
    "# quantbt 라이브러리 import\n",
    "from quantbt import (\n",
    "    UpbitDataProvider,\n",
    "    SimpleBroker,\n",
    ")\n",
    "from quantbt.core.value_objects.grid_search_config import SMAGridSearchConfig\n",
    "from quantbt.infrastructure.engine.parallel_backtest_engine import ParallelBacktestEngine\n",
    "from quantbt.examples.strategies.sma_grid_strategy import SMAGridStrategy\n",
    "\n",
    "# 로깅 설정\n",
    "logging.basicConfig(level=logging.INFO, format='%(asctime)s - %(name)s - %(levelname)s - %(message)s')\n",
    "\n",
    "print(\"✅ 라이브러리 import 완료\")"
   ]
  },
  {
   "cell_type": "code",
   "execution_count": 2,
   "metadata": {},
   "outputs": [
    {
     "name": "stdout",
     "output_type": "stream",
     "text": [
      "📊 그리드 서치 설정:\n",
      "   - 총 조합 수: 9\n",
      "   - 유효 조합 수: 8\n",
      "   - 배치 수: 3\n",
      "   - 워커 수: 4\n"
     ]
    }
   ],
   "source": [
    "# 1. 그리드 서치 설정\n",
    "config = SMAGridSearchConfig.create_sma_config(\n",
    "    strategy_class=SMAGridStrategy,\n",
    "    symbols=[\"KRW-BTC\"],\n",
    "    start_date=datetime(2024, 1, 1),\n",
    "    end_date=datetime(2024, 12, 31),  # 3개월 (빠른 테스트)\n",
    "    buy_sma_range=[5, 10, 15],      # 3개 값\n",
    "    sell_sma_range=[10, 20, 30],    # 3개 값\n",
    "    initial_cash=10_000_000\n",
    ")\n",
    "\n",
    "# 그리드 서치 전용 설정 업데이트\n",
    "config = SMAGridSearchConfig(\n",
    "    base_config=config.base_config,\n",
    "    strategy_class=config.strategy_class,\n",
    "    strategy_params=config.strategy_params,\n",
    "    fixed_params=config.fixed_params,\n",
    "    max_workers=4,                  # 4개 워커\n",
    "    batch_size=3,                   # 배치 크기 3\n",
    "    min_trades=5                    # 최소 5번 거래\n",
    ")\n",
    "\n",
    "print(f\"📊 그리드 서치 설정:\")\n",
    "print(f\"   - 총 조합 수: {config.total_combinations}\")\n",
    "print(f\"   - 유효 조합 수: {config.valid_combinations}\")\n",
    "print(f\"   - 배치 수: {config.total_batches}\")\n",
    "print(f\"   - 워커 수: {config.max_workers}\")"
   ]
  },
  {
   "cell_type": "code",
   "execution_count": null,
   "metadata": {},
   "outputs": [],
   "source": []
  }
 ],
 "metadata": {
  "kernelspec": {
   "display_name": "venv",
   "language": "python",
   "name": "python3"
  },
  "language_info": {
   "codemirror_mode": {
    "name": "ipython",
    "version": 3
   },
   "file_extension": ".py",
   "mimetype": "text/x-python",
   "name": "python",
   "nbconvert_exporter": "python",
   "pygments_lexer": "ipython3",
   "version": "3.12.3"
  }
 },
 "nbformat": 4,
 "nbformat_minor": 2
}
