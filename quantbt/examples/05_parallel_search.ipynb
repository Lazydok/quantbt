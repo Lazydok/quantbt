{
 "cells": [
  {
   "cell_type": "code",
   "execution_count": 19,
   "metadata": {},
   "outputs": [],
   "source": [
    "# 프로젝트 루트를 Python 경로에 추가\n",
    "import sys\n",
    "import os\n",
    "from pathlib import Path\n",
    "import asyncio\n",
    "\n",
    "# 현재 노트북의 위치에서 프로젝트 루트 찾기\n",
    "current_dir = Path.cwd()\n",
    "if 'examples' in str(current_dir):\n",
    "    # examples 폴더에서 실행하는 경우\n",
    "    project_root = current_dir.parent.parent\n",
    "else:\n",
    "    # 프로젝트 루트에서 실행하는 경우\n",
    "    project_root = current_dir\n",
    "\n",
    "# 프로젝트 루트를 Python 경로에 추가\n",
    "if str(project_root) not in sys.path:\n",
    "    sys.path.insert(0, str(project_root))\n",
    "\n",
    "# 필요한 모듈 가져오기\n",
    "from typing import List, Dict, Any, Optional\n",
    "from datetime import datetime\n",
    "import time\n",
    "import ray\n",
    "\n",
    "from quantbt import (\n",
    "    # Dict Native 전략 시스템\n",
    "    TradingStrategy,\n",
    "    BacktestEngine,\n",
    "    \n",
    "    # 기본 모듈들\n",
    "    SimpleBroker, \n",
    "    BacktestConfig,\n",
    "    UpbitDataProvider,\n",
    "    \n",
    "    # 주문 관련\n",
    "    Order, OrderSide, OrderType,\n",
    ")\n",
    "\n",
    "from quantbt.ray import (\n",
    "    RayDataManager, \n",
    "    BacktestActor,\n",
    "    QuantBTEngineAdapter\n",
    ")"
   ]
  },
  {
   "cell_type": "code",
   "execution_count": 2,
   "metadata": {},
   "outputs": [],
   "source": [
    "class SimpleSMAStrategy(TradingStrategy):\n",
    "    \"\"\"SMA 전략 (Ray 최적화용)\n",
    "    \n",
    "    고성능 스트리밍 방식:\n",
    "    - 지표 계산: Polars 벡터연산 \n",
    "    - 신호 생성: 행별 스트리밍 처리\n",
    "    \n",
    "    매수: 가격이 buy_sma 상회\n",
    "    매도: 가격이 sell_sma 하회  \n",
    "    \"\"\"\n",
    "    \n",
    "    def __init__(self, buy_sma: int = 15, sell_sma: int = 30):\n",
    "        super().__init__(\n",
    "            name=\"SimpleSMAStrategy\",\n",
    "            config={\n",
    "                \"buy_sma\": buy_sma,\n",
    "                \"sell_sma\": sell_sma\n",
    "            },\n",
    "            position_size_pct=0.8,  # 80%씩 포지션\n",
    "            max_positions=1\n",
    "        )\n",
    "        self.buy_sma = buy_sma\n",
    "        self.sell_sma = sell_sma\n",
    "        \n",
    "    def _compute_indicators_for_symbol(self, symbol_data):\n",
    "        \"\"\"심볼별 이동평균 지표 계산 (Polars 벡터 연산)\"\"\"\n",
    "        \n",
    "        # 시간순 정렬 확인\n",
    "        data = symbol_data.sort(\"timestamp\")\n",
    "        \n",
    "        # 단순 이동평균 계산\n",
    "        buy_sma = self.calculate_sma(data[\"close\"], self.buy_sma)\n",
    "        sell_sma = self.calculate_sma(data[\"close\"], self.sell_sma)\n",
    "        \n",
    "        # 지표 컬럼 추가 (중복 방지)\n",
    "        columns_to_add = []\n",
    "        \n",
    "        # buy_sma 컬럼 추가\n",
    "        buy_sma_name = f\"sma_{self.buy_sma}\"\n",
    "        columns_to_add.append(buy_sma.alias(buy_sma_name))\n",
    "        \n",
    "        # sell_sma 컬럼 추가 (중복 체크)\n",
    "        sell_sma_name = f\"sma_{self.sell_sma}\"\n",
    "        if sell_sma_name != buy_sma_name:  # 중복이 아닌 경우만 추가\n",
    "            columns_to_add.append(sell_sma.alias(sell_sma_name))\n",
    "        \n",
    "        return data.with_columns(columns_to_add)\n",
    "    \n",
    "    def generate_signals_dict(self, current_data: Dict[str, Any]) -> List[Order]:\n",
    "        \"\"\"행 데이터 기반 신호 생성\"\"\"\n",
    "        orders = []\n",
    "        \n",
    "        if not self.broker:\n",
    "            return orders\n",
    "        \n",
    "        symbol = current_data['symbol']\n",
    "        current_price = current_data['close']\n",
    "        \n",
    "        # SMA 값 가져오기 (같은 값인 경우 하나의 컬럼만 존재)\n",
    "        buy_sma_name = f'sma_{self.buy_sma}'\n",
    "        sell_sma_name = f'sma_{self.sell_sma}'\n",
    "        \n",
    "        buy_sma = current_data.get(buy_sma_name)\n",
    "        if buy_sma_name == sell_sma_name:\n",
    "            sell_sma = buy_sma  # 같은 SMA 값인 경우\n",
    "        else:\n",
    "            sell_sma = current_data.get(sell_sma_name)\n",
    "        \n",
    "        # 지표가 계산되지 않은 경우 건너뛰기\n",
    "        if buy_sma is None or sell_sma is None:\n",
    "            return orders\n",
    "        \n",
    "        current_positions = self.get_current_positions()\n",
    "        \n",
    "        # 매수 신호: 가격이 buy_sma 상회 + 포지션 없음\n",
    "        if current_price > buy_sma and symbol not in current_positions:\n",
    "            portfolio_value = self.get_portfolio_value()\n",
    "            quantity = self.calculate_position_size(symbol, current_price, portfolio_value)\n",
    "            \n",
    "            if quantity > 0:\n",
    "                order = Order(\n",
    "                    symbol=symbol,\n",
    "                    side=OrderSide.BUY,\n",
    "                    quantity=quantity,\n",
    "                    order_type=OrderType.MARKET\n",
    "                )\n",
    "                orders.append(order)\n",
    "        \n",
    "        # 매도 신호: 가격이 sell_sma 하회 + 포지션 있음\n",
    "        elif current_price < sell_sma and symbol in current_positions and current_positions[symbol] > 0:\n",
    "            order = Order(\n",
    "                symbol=symbol,\n",
    "                side=OrderSide.SELL,\n",
    "                quantity=current_positions[symbol],\n",
    "                order_type=OrderType.MARKET\n",
    "            )\n",
    "            orders.append(order)\n",
    "        \n",
    "        return orders"
   ]
  },
  {
   "cell_type": "code",
   "execution_count": 3,
   "metadata": {},
   "outputs": [
    {
     "name": "stdout",
     "output_type": "stream",
     "text": [
      "✅ Ray 클러스터 초기화 완료\n"
     ]
    },
    {
     "name": "stderr",
     "output_type": "stream",
     "text": [
      "\u001b[36m(BacktestActor pid=1006015)\u001b[0m 캐시에 데이터가 없어 새로 로딩: ['KRW-BTC']_2024-01-01 00:00:00_2024-12-31 00:00:00_1d\n",
      "\u001b[36m(BacktestActor pid=1006015)\u001b[0m 캐시에 데이터가 없어 새로 로딩: ['KRW-BTC']_2024-01-01 00:00:00_2024-12-31 00:00:00_1d\n",
      "\u001b[36m(BacktestActor pid=1006015)\u001b[0m 캐시에 데이터가 없어 새로 로딩: ['KRW-BTC']_2024-01-01 00:00:00_2024-12-31 00:00:00_1d\n",
      "\u001b[36m(BacktestActor pid=1006015)\u001b[0m 캐시에 데이터가 없어 새로 로딩: ['KRW-BTC']_2024-01-01 00:00:00_2024-12-31 00:00:00_1d\n"
     ]
    }
   ],
   "source": [
    "# 1. Ray 초기화 (runtime_env 설정으로 worker에서 모듈 접근 가능하도록)\n",
    "if not ray.is_initialized():\n",
    "    ray.init(\n",
    "        num_cpus=4,\n",
    "        object_store_memory=1000000000,  # 1GB\n",
    "        ignore_reinit_error=True,\n",
    "        logging_level=\"ERROR\",\n",
    "        runtime_env={\n",
    "            \"working_dir\": str(project_root),\n",
    "            \"py_modules\": [str(project_root / \"quantbt\")]\n",
    "        }\n",
    "    )\n",
    "    print(\"✅ Ray 클러스터 초기화 완료\")"
   ]
  },
  {
   "cell_type": "code",
   "execution_count": 4,
   "metadata": {},
   "outputs": [
    {
     "name": "stdout",
     "output_type": "stream",
     "text": [
      "✅ 백테스트 설정 완료\n"
     ]
    }
   ],
   "source": [
    "# 2. 백테스트 기본 설정\n",
    "config = BacktestConfig(\n",
    "    symbols=[\"KRW-BTC\"],\n",
    "    start_date=datetime(2024, 1, 1),\n",
    "    end_date=datetime(2024, 12, 31),\n",
    "    timeframe=\"1d\",\n",
    "    initial_cash=10_000_000,\n",
    "    commission_rate=0.0,\n",
    "    slippage_rate=0.0,\n",
    "    save_portfolio_history=False\n",
    ")\n",
    "print(\"✅ 백테스트 설정 완료\")"
   ]
  },
  {
   "cell_type": "code",
   "execution_count": 5,
   "metadata": {},
   "outputs": [
    {
     "name": "stdout",
     "output_type": "stream",
     "text": [
      "✅ RayDataManager 생성 완료\n"
     ]
    }
   ],
   "source": [
    "# 3. RayDataManager 생성\n",
    "data_manager = RayDataManager.remote()\n",
    "print(\"✅ RayDataManager 생성 완료\")"
   ]
  },
  {
   "cell_type": "code",
   "execution_count": 6,
   "metadata": {},
   "outputs": [
    {
     "name": "stdout",
     "output_type": "stream",
     "text": [
      "📊 실제 데이터 로딩 중...\n"
     ]
    }
   ],
   "source": [
    "# 4. 데이터 미리 로딩 (한 번만 실행)\n",
    "print(\"📊 실제 데이터 로딩 중...\")\n",
    "\n",
    "data_ref = await data_manager.load_real_data.remote(\n",
    "    symbols=config.symbols,\n",
    "    start_date=config.start_date,\n",
    "    end_date=config.end_date,\n",
    "    timeframe=config.timeframe\n",
    ")"
   ]
  },
  {
   "cell_type": "code",
   "execution_count": 7,
   "metadata": {},
   "outputs": [
    {
     "name": "stdout",
     "output_type": "stream",
     "text": [
      "📈 캐시 통계: 1개 데이터, 0.02 MB\n"
     ]
    }
   ],
   "source": [
    "# 5. 캐시 통계 확인\n",
    "cache_stats = await data_manager.get_cache_stats.remote()\n",
    "print(f\"📈 캐시 통계: {cache_stats['cache_size']}개 데이터, {cache_stats['total_data_size']/1024/1024:,.2f} MB\")"
   ]
  },
  {
   "cell_type": "code",
   "execution_count": 8,
   "metadata": {},
   "outputs": [
    {
     "name": "stdout",
     "output_type": "stream",
     "text": [
      "\n",
      "🎯 4개 BacktestActor 생성 중...\n"
     ]
    }
   ],
   "source": [
    "# 6. BacktestActor들 생성 (RayDataManager 참조와 함께)\n",
    "num_actors = 4\n",
    "print(f\"\\n🎯 {num_actors}개 BacktestActor 생성 중...\")\n",
    "\n",
    "actors = []\n",
    "for i in range(num_actors):\n",
    "    actor = BacktestActor.remote(f\"actor_{i}\", data_manager)\n",
    "    actors.append(actor)"
   ]
  },
  {
   "cell_type": "code",
   "execution_count": 9,
   "metadata": {},
   "outputs": [],
   "source": [
    "# Actor 초기화\n",
    "config_dict = {\n",
    "    'symbols': config.symbols,\n",
    "    'start_date': config.start_date,\n",
    "    'end_date': config.end_date,\n",
    "    'timeframe': config.timeframe,\n",
    "    'initial_cash': config.initial_cash,\n",
    "    'commission_rate': config.commission_rate,\n",
    "    'slippage_rate': config.slippage_rate,\n",
    "    'save_portfolio_history': config.save_portfolio_history\n",
    "}\n",
    "\n",
    "init_results = await asyncio.gather(*[\n",
    "    actor.initialize_engine.remote(config_dict) for actor in actors\n",
    "])"
   ]
  },
  {
   "cell_type": "code",
   "execution_count": 10,
   "metadata": {},
   "outputs": [
    {
     "name": "stdout",
     "output_type": "stream",
     "text": [
      "✅ BacktestActor 초기화: 4/4개 성공\n"
     ]
    }
   ],
   "source": [
    "successful_actors = sum(init_results)\n",
    "print(f\"✅ BacktestActor 초기화: {successful_actors}/{num_actors}개 성공\")"
   ]
  },
  {
   "cell_type": "code",
   "execution_count": 11,
   "metadata": {},
   "outputs": [
    {
     "name": "stdout",
     "output_type": "stream",
     "text": [
      "✅ 파라메터 그리드 정의 완료: 16개 조합\n",
      "   - 매수 SMA: [10, 15, 20, 25]\n",
      "   - 매도 SMA: [25, 30, 35, 40]\n"
     ]
    }
   ],
   "source": [
    "# 7. 파라메터 그리드 정의\n",
    "param_grid = {\n",
    "    'buy_sma': [10, 15, 20, 25],      # 매수 SMA: 10, 15, 20, 25\n",
    "    'sell_sma': [25, 30, 35, 40]      # 매도 SMA: 25, 30, 35, 40\n",
    "}\n",
    "total_combinations = len(param_grid['buy_sma']) * len(param_grid['sell_sma'])\n",
    "print(f\"✅ 파라메터 그리드 정의 완료: {total_combinations}개 조합\")\n",
    "print(f\"   - 매수 SMA: {param_grid['buy_sma']}\")\n",
    "print(f\"   - 매도 SMA: {param_grid['sell_sma']}\")"
   ]
  },
  {
   "cell_type": "code",
   "execution_count": 12,
   "metadata": {},
   "outputs": [
    {
     "name": "stdout",
     "output_type": "stream",
     "text": [
      "16\n"
     ]
    }
   ],
   "source": [
    "# 8. 파라메터 조합 생성\n",
    "from itertools import product\n",
    "param_combinations = []\n",
    "for buy_sma, sell_sma in product(param_grid['buy_sma'], param_grid['sell_sma']):\n",
    "    param_combinations.append({\n",
    "        'buy_sma': buy_sma,\n",
    "        'sell_sma': sell_sma\n",
    "    })\n",
    "\n",
    "print(len(param_combinations))"
   ]
  },
  {
   "cell_type": "code",
   "execution_count": 13,
   "metadata": {},
   "outputs": [
    {
     "name": "stdout",
     "output_type": "stream",
     "text": [
      "분산 백테스트 실행 (제로카피 데이터 공유)\n",
      "📊 16개 백테스트 병렬 실행 중...\n"
     ]
    }
   ],
   "source": [
    "# 9. 분산 백테스트 실행\n",
    "print(\"분산 백테스트 실행 (제로카피 데이터 공유)\")\n",
    "\n",
    "# Actor별로 작업 분배\n",
    "tasks = []\n",
    "for i, params in enumerate(param_combinations):\n",
    "    actor_idx = i % len(actors)\n",
    "    actor = actors[actor_idx]\n",
    "    \n",
    "    task = actor.execute_backtest.remote(params, SimpleSMAStrategy)\n",
    "    tasks.append((i, params, task))\n",
    "    \n",
    "# 모든 작업 완료 대기\n",
    "print(f\"📊 {total_combinations}개 백테스트 병렬 실행 중...\")"
   ]
  },
  {
   "cell_type": "code",
   "execution_count": 14,
   "metadata": {},
   "outputs": [],
   "source": [
    "results = []\n",
    "for i, params, task in tasks:\n",
    "    try:\n",
    "        result = await task\n",
    "        results.append({\n",
    "            'params': params,\n",
    "            'result': result,\n",
    "            'success': True,\n",
    "            'task_id': i\n",
    "        })\n",
    "    except Exception as e:\n",
    "        print(f\"❌ 작업 {i} 실패: {e}\")\n",
    "        results.append({\n",
    "            'params': params,\n",
    "            'result': None,\n",
    "            'success': False,\n",
    "            'error': str(e),\n",
    "            'task_id': i\n",
    "        })"
   ]
  },
  {
   "cell_type": "code",
   "execution_count": 15,
   "metadata": {},
   "outputs": [
    {
     "name": "stdout",
     "output_type": "stream",
     "text": [
      "✅ 성공한 조합: 16/16개\n",
      "✅ 성공률: 100.0%\n"
     ]
    }
   ],
   "source": [
    "successful_results = [r for r in results if r['success']]\n",
    "failed_results = [r for r in results if not r['success']]\n",
    "\n",
    "print(f\"✅ 성공한 조합: {len(successful_results)}/{total_combinations}개\")\n",
    "print(f\"✅ 성공률: {len(successful_results)/total_combinations*100:.1f}%\")"
   ]
  },
  {
   "cell_type": "code",
   "execution_count": 16,
   "metadata": {},
   "outputs": [
    {
     "data": {
      "text/plain": [
       "{'params': {'buy_sma': 10, 'sell_sma': 25},\n",
       " 'result': {'total_return': 1.0334293744037217,\n",
       "  'sharpe_ratio': 3.273059493217384,\n",
       "  'max_drawdown': 0.1855409673853017,\n",
       "  'win_rate': 0.4166666666666667,\n",
       "  'total_trades': 48,\n",
       "  'final_portfolio_value': 20334293.74403722,\n",
       "  'annual_return': 1.03441808938866,\n",
       "  'volatility': 0.31604011217401906,\n",
       "  'profit_factor': 3.7379503706721224,\n",
       "  'execution_time': 0.009536266326904297,\n",
       "  'success': True,\n",
       "  'params': {'buy_sma': 10, 'sell_sma': 25},\n",
       "  'worker_id': 'actor_0'},\n",
       " 'success': True,\n",
       " 'task_id': 0}"
      ]
     },
     "execution_count": 16,
     "metadata": {},
     "output_type": "execute_result"
    }
   ],
   "source": [
    "successful_results[0]"
   ]
  },
  {
   "cell_type": "code",
   "execution_count": 17,
   "metadata": {},
   "outputs": [
    {
     "name": "stdout",
     "output_type": "stream",
     "text": [
      "\n",
      "🏆 최적 파라메터:\n",
      "   - 매수 SMA: 15\n",
      "   - 매도 SMA: 35\n",
      "\n",
      "📈 최고 성과:\n",
      "   - 샤프 비율: 4.4053\n",
      "   - 총 수익률: 1.3700\n",
      "\n",
      "📊 성능 통계:\n",
      "   - 평균 샤프 비율: 3.7753\n",
      "   - 최고 샤프 비율: 4.4053\n",
      "   - 최저 샤프 비율: 3.2220\n",
      "   - 평균 수익률: 1.1635\n"
     ]
    }
   ],
   "source": [
    "# 최적 파라메터 찾기\n",
    "best_result = max(successful_results, \n",
    "                    key=lambda x: x['result'].get('sharpe_ratio', -999))\n",
    "\n",
    "print(f\"\\n🏆 최적 파라메터:\")\n",
    "print(f\"   - 매수 SMA: {best_result['params']['buy_sma']}\")\n",
    "print(f\"   - 매도 SMA: {best_result['params']['sell_sma']}\")\n",
    "\n",
    "print(f\"\\n📈 최고 성과:\")\n",
    "print(f\"   - 샤프 비율: {best_result['result'].get('sharpe_ratio', 0):.4f}\")\n",
    "print(f\"   - 총 수익률: {best_result['result'].get('total_return', 0):.4f}\")\n",
    "\n",
    "# 성능 통계\n",
    "sharpe_ratios = [r['result'].get('sharpe_ratio', 0) for r in successful_results]\n",
    "returns = [r['result'].get('total_return', 0) for r in successful_results]\n",
    "\n",
    "print(f\"\\n📊 성능 통계:\")\n",
    "print(f\"   - 평균 샤프 비율: {sum(sharpe_ratios)/len(sharpe_ratios):.4f}\")\n",
    "print(f\"   - 최고 샤프 비율: {max(sharpe_ratios):.4f}\")\n",
    "print(f\"   - 최저 샤프 비율: {min(sharpe_ratios):.4f}\")\n",
    "print(f\"   - 평균 수익률: {sum(returns)/len(returns):.4f}\")"
   ]
  }
 ],
 "metadata": {
  "kernelspec": {
   "display_name": "venv",
   "language": "python",
   "name": "python3"
  },
  "language_info": {
   "codemirror_mode": {
    "name": "ipython",
    "version": 3
   },
   "file_extension": ".py",
   "mimetype": "text/x-python",
   "name": "python",
   "nbconvert_exporter": "python",
   "pygments_lexer": "ipython3",
   "version": "3.12.3"
  }
 },
 "nbformat": 4,
 "nbformat_minor": 2
}
