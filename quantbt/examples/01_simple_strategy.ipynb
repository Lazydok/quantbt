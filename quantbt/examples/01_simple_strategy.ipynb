{
 "cells": [
  {
   "cell_type": "code",
   "execution_count": 2,
   "metadata": {},
   "outputs": [
    {
     "name": "stdout",
     "output_type": "stream",
     "text": [
      "✅ 모든 QuantBT 모듈이 성공적으로 가져와졌습니다!\n"
     ]
    }
   ],
   "source": [
    "# 프로젝트 루트를 Python 경로에 추가\n",
    "import sys\n",
    "import os\n",
    "from pathlib import Path\n",
    "\n",
    "# 현재 노트북의 위치에서 프로젝트 루트 찾기\n",
    "current_dir = Path.cwd()\n",
    "if 'examples' in str(current_dir):\n",
    "    # examples 폴더에서 실행하는 경우\n",
    "    project_root = current_dir.parent.parent\n",
    "else:\n",
    "    # 프로젝트 루트에서 실행하는 경우\n",
    "    project_root = current_dir\n",
    "\n",
    "# 프로젝트 루트를 Python 경로에 추가\n",
    "if str(project_root) not in sys.path:\n",
    "    sys.path.insert(0, str(project_root))\n",
    "\n",
    "# 필요한 모듈 가져오기\n",
    "from typing import List, Dict, Any, Optional\n",
    "import polars as pl\n",
    "from datetime import datetime\n",
    "\n",
    "from quantbt import (\n",
    "    SimpleBacktestEngine, \n",
    "    SimpleBroker, \n",
    "    TradingStrategy, \n",
    "    MarketDataBatch, \n",
    "    BacktestConfig,\n",
    "    UpbitDataProvider,\n",
    "    Order,\n",
    "    OrderSide,\n",
    "    OrderType,\n",
    ")\n",
    "print(\"✅ 모든 QuantBT 모듈이 성공적으로 가져와졌습니다!\")"
   ]
  },
  {
   "cell_type": "code",
   "execution_count": 3,
   "metadata": {},
   "outputs": [],
   "source": [
    "class SimpleSMAStrategy(TradingStrategy):\n",
    "    \"\"\"간단한 SMA 브레이크아웃 전략\n",
    "    \n",
    "    매수: 가격이 SMA20 상회\n",
    "    매도: 가격이 SMA5 하회  \n",
    "    \"\"\"\n",
    "    \n",
    "    def __init__(self, buy_sma: int = 20, sell_sma: int = 5):\n",
    "        super().__init__(\n",
    "            name=\"SimpleSMAStrategy\",\n",
    "            config={\n",
    "                \"buy_sma\": buy_sma,\n",
    "                \"sell_sma\": sell_sma\n",
    "            },\n",
    "            position_size_pct=0.8,  # 80%씩 포지션\n",
    "            max_positions=1\n",
    "        )\n",
    "        self.buy_sma = buy_sma\n",
    "        self.sell_sma = sell_sma\n",
    "        self.indicator_columns = [f\"sma_{buy_sma}\", f\"sma_{sell_sma}\"]\n",
    "        \n",
    "    def _compute_indicators_for_symbol(self, symbol_data):\n",
    "        \"\"\"심볼별 이동평균 지표 계산\"\"\"\n",
    "        \n",
    "        # 시간순 정렬 확인\n",
    "        data = symbol_data.sort(\"timestamp\")\n",
    "        \n",
    "        # 단순 이동평균 계산\n",
    "        buy_sma = self.calculate_sma(data[\"close\"], self.buy_sma)\n",
    "        sell_sma = self.calculate_sma(data[\"close\"], self.sell_sma)\n",
    "        \n",
    "        # 지표 컬럼 추가\n",
    "        return data.with_columns([\n",
    "            buy_sma.alias(f\"sma_{self.buy_sma}\"),\n",
    "            sell_sma.alias(f\"sma_{self.sell_sma}\")\n",
    "        ])\n",
    "    \n",
    "    def generate_signals(self, data: MarketDataBatch) -> List[Order]:\n",
    "        \"\"\"신호 생성 - 가격과 이동평균 비교\"\"\"\n",
    "        orders = []\n",
    "        \n",
    "        if not self.context:\n",
    "            return orders\n",
    "        \n",
    "        for symbol in data.symbols:\n",
    "            current_price = self.get_current_price(symbol, data)\n",
    "            if not current_price:\n",
    "                continue\n",
    "            \n",
    "            # 현재 지표 값 조회\n",
    "            buy_sma = self.get_indicator_value(symbol, f\"sma_{self.buy_sma}\", data)\n",
    "            sell_sma = self.get_indicator_value(symbol, f\"sma_{self.sell_sma}\", data)\n",
    "            \n",
    "            if buy_sma is None or sell_sma is None:\n",
    "                continue\n",
    "            \n",
    "            current_positions = self.get_current_positions()\n",
    "            \n",
    "            # 매수 신호: 가격이 SMA20 상회 + 포지션 없음\n",
    "            if current_price > buy_sma and symbol not in current_positions:\n",
    "                portfolio_value = self.get_portfolio_value()\n",
    "                quantity = self.calculate_position_size(symbol, current_price, portfolio_value)\n",
    "                \n",
    "                if quantity > 0:\n",
    "                    order = Order(\n",
    "                        symbol=symbol,\n",
    "                        side=OrderSide.BUY,\n",
    "                        quantity=quantity,\n",
    "                        order_type=OrderType.MARKET\n",
    "                    )\n",
    "                    orders.append(order)\n",
    "            \n",
    "            # 매도 신호: 가격이 SMA5 하회 + 포지션 있음\n",
    "            elif current_price < sell_sma and symbol in current_positions and current_positions[symbol] > 0:\n",
    "                order = Order(\n",
    "                    symbol=symbol,\n",
    "                    side=OrderSide.SELL,\n",
    "                    quantity=current_positions[symbol],\n",
    "                    order_type=OrderType.MARKET\n",
    "                )\n",
    "                orders.append(order)\n",
    "        \n",
    "        return orders"
   ]
  },
  {
   "cell_type": "code",
   "execution_count": 4,
   "metadata": {},
   "outputs": [],
   "source": [
    "# 1. 업비트 데이터 프로바이더\n",
    "upbit_provider = UpbitDataProvider()"
   ]
  },
  {
   "cell_type": "code",
   "execution_count": 4,
   "metadata": {},
   "outputs": [],
   "source": [
    "# 2. 백테스팅 설정 (2024년 1년)\n",
    "config = BacktestConfig(\n",
    "    symbols=[\"KRW-BTC\"],\n",
    "    start_date=datetime(2024, 1, 1),\n",
    "    end_date=datetime(2024, 12, 31),\n",
    "    timeframe=\"1d\",  # 일봉\n",
    "    initial_cash=10_000_000,  # 1천만원\n",
    "    commission_rate=0.0,      # 수수료 0% (테스트용) - 실제 백테스팅에는 적절한 값 사용\n",
    "    slippage_rate=0.0         # 슬리피지 0% (테스트용) - 실제 백테스팅에는 적절한 값 사용\n",
    ")"
   ]
  },
  {
   "cell_type": "code",
   "execution_count": 5,
   "metadata": {},
   "outputs": [],
   "source": [
    "# 3. 간단한 SMA 전략\n",
    "strategy = SimpleSMAStrategy(\n",
    "    buy_sma=20,   # 매수: 가격이 20일 이평선 상회\n",
    "    sell_sma=5    # 매도: 가격이 5일 이평선 하회\n",
    ")"
   ]
  },
  {
   "cell_type": "code",
   "execution_count": 6,
   "metadata": {},
   "outputs": [],
   "source": [
    "# 4. 브로커 설정\n",
    "broker = SimpleBroker(\n",
    "    initial_cash=config.initial_cash,\n",
    "    commission_rate=config.commission_rate,\n",
    "    slippage_rate=config.slippage_rate\n",
    ")"
   ]
  },
  {
   "cell_type": "code",
   "execution_count": 7,
   "metadata": {},
   "outputs": [],
   "source": [
    "# 5. 백테스트 엔진\n",
    "engine = SimpleBacktestEngine()\n",
    "engine.set_strategy(strategy)\n",
    "engine.set_data_provider(upbit_provider)\n",
    "engine.set_broker(broker)"
   ]
  },
  {
   "cell_type": "code",
   "execution_count": 8,
   "metadata": {},
   "outputs": [
    {
     "name": "stdout",
     "output_type": "stream",
     "text": [
      "📅 기간: 2024-01-01 ~ 2024-12-31\n",
      "📈 전략: 가격 > SMA20 매수, 가격 < SMA5 매도\n",
      "💰 초기 자본: 10,000,000원\n",
      "📊 수수료: 0.0% | 슬리피지: 0.0%\n",
      "  💾 캐시에서 데이터 로드: KRW-BTC 1d (365개 캔들)\n",
      "    📅 캐시 범위: 2024-01-01 ~ 2024-12-30\n",
      "    📊 커버리지: 99.7% (365/366일)\n"
     ]
    }
   ],
   "source": [
    "# 6. 백테스팅 실행\n",
    "print(f\"📅 기간: {config.start_date.date()} ~ {config.end_date.date()}\")\n",
    "print(f\"📈 전략: 가격 > SMA{strategy.buy_sma} 매수, 가격 < SMA{strategy.sell_sma} 매도\")\n",
    "print(f\"💰 초기 자본: {config.initial_cash:,.0f}원\")\n",
    "print(f\"📊 수수료: {config.commission_rate:.1%} | 슬리피지: {config.slippage_rate:.1%}\")\n",
    "\n",
    "result = await engine.run(config)"
   ]
  },
  {
   "cell_type": "code",
   "execution_count": 9,
   "metadata": {},
   "outputs": [
    {
     "data": {
      "text/plain": [
       "{'기간': '2024-01-01 ~ 2024-12-31',\n",
       " '초기자본': '10,000,000',\n",
       " '최종자본': '22,256,614',\n",
       " '총수익률': '122.57%',\n",
       " '연간수익률': '122.69%',\n",
       " '변동성': '15.00%',\n",
       " '샤프비율': '7.98',\n",
       " '최대낙폭': '10.00%',\n",
       " '총거래수': 41,\n",
       " '승률': '53.7%',\n",
       " '수익인수': '3.51',\n",
       " '실행시간': '0.31초'}"
      ]
     },
     "execution_count": 9,
     "metadata": {},
     "output_type": "execute_result"
    }
   ],
   "source": [
    "result.get_summary()"
   ]
  },
  {
   "cell_type": "code",
   "execution_count": 10,
   "metadata": {},
   "outputs": [
    {
     "name": "stdout",
     "output_type": "stream",
     "text": [
      "\n",
      "📊 백테스팅 결과\n",
      "========================================\n",
      "💰 초기 자본: 10,000,000원\n",
      "💵 최종 자산: 22,256,614원\n",
      "📈 총 수익률: 122.57%\n",
      "🔄 총 거래 수: 41\n",
      "🎯 승률: 53.7%\n",
      "\n",
      "📋 주요 거래 내역 (상위 10개)\n",
      "----------------------------------------------------------------------\n",
      " 1. 2025-06-06 | 매도 | 0.135361 BTC @ 59,101,000원\n",
      " 2. 2025-06-06 | 매도 | 0.135361 BTC @ 58,811,000원\n",
      " 3. 2025-06-06 | 매도 | 0.135332 BTC @ 58,882,000원\n",
      " 4. 2025-06-06 | 매도 | 0.135332 BTC @ 59,039,000원\n",
      " 5. 2025-06-06 | 매도 | 0.132581 BTC @ 60,232,000원\n",
      " 6. 2025-06-06 | 매도 | 0.132581 BTC @ 71,601,000원\n",
      " 7. 2025-06-06 | 매도 | 0.129813 BTC @ 70,805,000원\n",
      " 8. 2025-06-06 | 매도 | 0.129813 BTC @ 71,107,000원\n",
      " 9. 2025-06-06 | 매도 | 0.129432 BTC @ 71,256,000원\n",
      "10. 2025-06-06 | 매도 | 0.129432 BTC @ 101,000,000원\n"
     ]
    }
   ],
   "source": [
    " # 7. 결과 출력\n",
    "print(f\"\\n📊 백테스팅 결과\")\n",
    "print(\"=\" * 40)\n",
    "print(f\"💰 초기 자본: {result.config.initial_cash:,.0f}원\")\n",
    "print(f\"💵 최종 자산: {result.final_equity:,.0f}원\")\n",
    "print(f\"📈 총 수익률: {result.total_return:.2%}\")\n",
    "print(f\"🔄 총 거래 수: {result.total_trades}\")\n",
    "\n",
    "if result.total_trades > 0:\n",
    "    print(f\"🎯 승률: {result.win_rate:.1%}\")\n",
    "    \n",
    "    # 주요 거래 내역 (상위 10개)\n",
    "    if hasattr(result, 'trades') and result.trades:\n",
    "        print(f\"\\n📋 주요 거래 내역 (상위 10개)\")\n",
    "        print(\"-\" * 70)\n",
    "        \n",
    "        for i, trade in enumerate(result.trades[:10], 1):\n",
    "            date = trade.timestamp.strftime(\"%Y-%m-%d\")\n",
    "            side = \"매수\" if trade.side.value == \"BUY\" else \"매도\"\n",
    "            \n",
    "            print(f\"{i:2d}. {date} | {side} | \"\n",
    "                    f\"{trade.quantity:.6f} BTC @ {trade.price:,.0f}원\")\n",
    "else:\n",
    "    print(\"❌ 거래가 발생하지 않았습니다.\")\n"
   ]
  },
  {
   "cell_type": "code",
   "execution_count": null,
   "metadata": {},
   "outputs": [],
   "source": []
  }
 ],
 "metadata": {
  "kernelspec": {
   "display_name": "venv",
   "language": "python",
   "name": "python3"
  },
  "language_info": {
   "codemirror_mode": {
    "name": "ipython",
    "version": 3
   },
   "file_extension": ".py",
   "mimetype": "text/x-python",
   "name": "python",
   "nbconvert_exporter": "python",
   "pygments_lexer": "ipython3",
   "version": "3.12.3"
  }
 },
 "nbformat": 4,
 "nbformat_minor": 2
}
