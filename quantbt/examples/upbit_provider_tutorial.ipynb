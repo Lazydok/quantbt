{
 "cells": [
  {
   "cell_type": "markdown",
   "metadata": {
    "vscode": {
     "languageId": "raw"
    }
   },
   "source": [
    "# 업비트 데이터 제공자 튜토리얼\n",
    "\n",
    "이 튜토리얼에서는 업비트 API를 사용하여 비트코인 데이터를 간단하게 가져오는 방법을 알아보겠습니다.\n",
    "\n",
    "## 🎯 주요 내용\n",
    "- 업비트 데이터 제공자 초기화\n",
    "- 비트코인 가격 데이터 조회\n",
    "- 데이터 시각화 (한글 폰트 문제 해결)\n",
    "- 캐싱 시스템 활용\n"
   ]
  },
  {
   "cell_type": "code",
   "execution_count": 1,
   "metadata": {},
   "outputs": [
    {
     "name": "stdout",
     "output_type": "stream",
     "text": [
      "✅ 라이브러리 임포트 완료!\n",
      "📁 프로젝트 경로: /home/lazydok/src/quantbt/quantbt/examples/../..\n"
     ]
    }
   ],
   "source": [
    "# 필요한 라이브러리 임포트\n",
    "import asyncio\n",
    "import sys\n",
    "from datetime import datetime, timedelta\n",
    "from pathlib import Path\n",
    "\n",
    "# 프로젝트 루트 경로 추가\n",
    "project_root = Path(\"../..\")\n",
    "sys.path.append(str(project_root))\n",
    "\n",
    "# 업비트 데이터 제공자 임포트\n",
    "from quantbt.infrastructure.data.upbit_provider import UpbitDataProvider\n",
    "\n",
    "print(\"✅ 라이브러리 임포트 완료!\")\n",
    "print(f\"📁 프로젝트 경로: {project_root.absolute()}\")\n"
   ]
  },
  {
   "cell_type": "code",
   "execution_count": 2,
   "metadata": {},
   "outputs": [
    {
     "name": "stdout",
     "output_type": "stream",
     "text": [
      "🏦 업비트 데이터 제공자 초기화 완료!\n",
      "📁 캐시 디렉토리: ./data/upbit_cache\n",
      "⏱️ API 호출 간격: 0.1초\n",
      "📊 최대 캔들 수: 200개/요청\n"
     ]
    }
   ],
   "source": [
    "# 업비트 데이터 제공자 초기화\n",
    "upbit_provider = UpbitDataProvider(\n",
    "    cache_dir=\"./data/upbit_cache\",  # 캐시 저장 경로\n",
    "    rate_limit_delay=0.1,            # API 호출 간격 (초)\n",
    "    max_candles_per_request=200      # 한 번에 요청할 최대 캔들 수\n",
    ")\n",
    "\n",
    "print(\"🏦 업비트 데이터 제공자 초기화 완료!\")\n",
    "print(f\"📁 캐시 디렉토리: ./data/upbit_cache\")\n",
    "print(f\"⏱️ API 호출 간격: 0.1초\")\n",
    "print(f\"📊 최대 캔들 수: 200개/요청\")\n"
   ]
  },
  {
   "cell_type": "code",
   "execution_count": 3,
   "metadata": {},
   "outputs": [
    {
     "name": "stdout",
     "output_type": "stream",
     "text": [
      "📈 총 174개 암호화폐 거래 가능\n",
      "🪙 주요 코인 (처음 10개): ['KRW-BTC', 'KRW-ETH', 'KRW-NEO', 'KRW-MTL', 'KRW-XRP', 'KRW-ETC', 'KRW-SNT', 'KRW-WAVES', 'KRW-XEM', 'KRW-QTUM']\n",
      "\n",
      "🔍 거래 가능 확인:\n",
      "   ₿ 비트코인 (KRW-BTC): ✅\n",
      "   Ξ 이더리움 (KRW-ETH): ✅\n"
     ]
    }
   ],
   "source": [
    "# 사용 가능한 업비트 심볼 목록 확인\n",
    "symbols = upbit_provider.get_symbols()\n",
    "\n",
    "print(f\"📈 총 {len(symbols)}개 암호화폐 거래 가능\")\n",
    "print(f\"🪙 주요 코인 (처음 10개): {symbols[:10]}\")\n",
    "\n",
    "# 비트코인과 이더리움 확인\n",
    "btc_available = \"KRW-BTC\" in symbols\n",
    "eth_available = \"KRW-ETH\" in symbols\n",
    "\n",
    "print(f\"\\n🔍 거래 가능 확인:\")\n",
    "print(f\"   ₿ 비트코인 (KRW-BTC): {'✅' if btc_available else '❌'}\")\n",
    "print(f\"   Ξ 이더리움 (KRW-ETH): {'✅' if eth_available else '❌'}\")\n"
   ]
  },
  {
   "cell_type": "code",
   "execution_count": 4,
   "metadata": {},
   "outputs": [
    {
     "name": "stdout",
     "output_type": "stream",
     "text": [
      "📡 업비트에서 비트코인 데이터 가져오는 중...\n",
      "📅 조회 기간: 2025-06-02 19:28 ~ 2025-06-05 19:28\n",
      "  🔍 API 요청 준비: KRW-BTC 1m\n",
      "    📅 요청 기간: 2025-06-02 19:28:43 ~ 2025-06-05 19:28:43\n",
      "    📊 예상 캔들 수: 4320개 (기간: 72.0시간)\n"
     ]
    },
    {
     "name": "stderr",
     "output_type": "stream",
     "text": [
      "                                                                                          "
     ]
    },
    {
     "name": "stdout",
     "output_type": "stream",
     "text": [
      "✅ 데이터 조회 완료!\n",
      "📊 조회된 데이터: 7개 캔들\n",
      "💰 최신 가격: 144,621,000원\n",
      "📈 최고가: 145,307,000원\n",
      "📉 최저가: 144,100,000원\n"
     ]
    },
    {
     "name": "stderr",
     "output_type": "stream",
     "text": [
      "\r"
     ]
    }
   ],
   "source": [
    "# 비트코인 데이터 소량 가져오기 (최근 3일간 1시간봉)\n",
    "async def fetch_btc_data():\n",
    "    \"\"\"비트코인 1시간봉 데이터 가져오기\"\"\"\n",
    "    print(\"📡 업비트에서 비트코인 데이터 가져오는 중...\")\n",
    "    \n",
    "    # 날짜 설정 (최근 3일)\n",
    "    end_date = datetime.now()\n",
    "    start_date = end_date - timedelta(days=3)\n",
    "    \n",
    "    print(f\"📅 조회 기간: {start_date.strftime('%Y-%m-%d %H:%M')} ~ {end_date.strftime('%Y-%m-%d %H:%M')}\")\n",
    "    \n",
    "    try:\n",
    "        # 비동기 컨텍스트 매니저 사용\n",
    "        async with upbit_provider:\n",
    "            btc_data = await upbit_provider.get_data(\n",
    "                symbols=[\"KRW-BTC\"],\n",
    "                start=start_date,\n",
    "                end=end_date,\n",
    "                timeframe=\"1h\"  # 1시간봉\n",
    "            )\n",
    "        \n",
    "        print(f\"✅ 데이터 조회 완료!\")\n",
    "        print(f\"📊 조회된 데이터: {btc_data.height}개 캔들\")\n",
    "        \n",
    "        if btc_data.height > 0:\n",
    "            print(f\"💰 최신 가격: {btc_data.tail(1).select('close').item():,.0f}원\")\n",
    "            print(f\"📈 최고가: {btc_data.select('high').max().item():,.0f}원\")\n",
    "            print(f\"📉 최저가: {btc_data.select('low').min().item():,.0f}원\")\n",
    "        \n",
    "        return btc_data\n",
    "        \n",
    "    except Exception as e:\n",
    "        print(f\"❌ 데이터 조회 실패: {e}\")\n",
    "        return None\n",
    "\n",
    "# 비동기 함수 실행\n",
    "btc_data = await fetch_btc_data()\n"
   ]
  },
  {
   "cell_type": "code",
   "execution_count": 5,
   "metadata": {},
   "outputs": [
    {
     "name": "stdout",
     "output_type": "stream",
     "text": [
      "📋 비트코인 데이터 미리보기 (최근 5개 캔들):\n",
      "================================================================================\n",
      "     시간               심볼           시가           고가           저가           종가    거래량\n",
      "KRW-BTC 2025-06-05 15:00 144,561,000원 144,599,000원 144,100,000원 144,244,000원  68.38\n",
      "KRW-BTC 2025-06-05 16:00 144,244,000원 145,203,000원 144,174,000원 144,492,000원 332.75\n",
      "KRW-BTC 2025-06-05 17:00 144,466,000원 144,787,000원 144,159,000원 144,670,000원 125.66\n",
      "KRW-BTC 2025-06-05 18:00 144,670,000원 145,047,000원 144,500,000원 145,020,000원  36.30\n",
      "KRW-BTC 2025-06-05 19:00 145,020,000원 145,020,000원 144,608,000원 144,621,000원  17.15\n"
     ]
    }
   ],
   "source": [
    "# 데이터 미리보기\n",
    "if btc_data is not None and btc_data.height > 0:\n",
    "    print(\"📋 비트코인 데이터 미리보기 (최근 5개 캔들):\")\n",
    "    print(\"=\" * 80)\n",
    "    \n",
    "    # 최근 5개 데이터를 pandas로 변환하여 보기 좋게 출력\n",
    "    recent_data = btc_data.tail(5).to_pandas()\n",
    "    recent_data['timestamp'] = recent_data['timestamp'].dt.strftime('%Y-%m-%d %H:%M')\n",
    "    \n",
    "    # 숫자 포맷팅\n",
    "    for col in ['open', 'high', 'low', 'close']:\n",
    "        recent_data[col] = recent_data[col].apply(lambda x: f\"{x:,.0f}원\")\n",
    "    recent_data['volume'] = recent_data['volume'].apply(lambda x: f\"{x:,.2f}\")\n",
    "    \n",
    "    # 컬럼명 한글로 변경\n",
    "    recent_data.columns = ['시간', '심볼', '시가', '고가', '저가', '종가', '거래량']\n",
    "    \n",
    "    print(recent_data.to_string(index=False))\n",
    "else:\n",
    "    print(\"❌ 표시할 데이터가 없습니다.\")\n"
   ]
  },
  {
   "cell_type": "code",
   "execution_count": 8,
   "metadata": {},
   "outputs": [],
   "source": [
    "# 한글 폰트 문제 해결된 차트 (한글/영문 대응)\n",
    "import matplotlib.dates as mdates\n",
    "# 한글 폰트 설정 (Linux 환경 대응)\n",
    "import matplotlib.pyplot as plt\n",
    "import matplotlib.font_manager as fm\n",
    "\n",
    "def setup_korean_font():\n",
    "    \"\"\"한글 폰트 설정\"\"\"\n",
    "    try:\n",
    "        # 시스템에서 사용 가능한 한글 폰트 찾기\n",
    "        korean_fonts = [\n",
    "            'Noto Sans CJK KR',  # Google Noto 폰트\n",
    "            'Noto Sans Korean',\n",
    "            'NanumGothic',       # 나눔고딕\n",
    "            'NanumBarunGothic',  # 나눔바른고딕\n",
    "            'DejaVu Sans',       # fallback\n",
    "        ]\n",
    "        \n",
    "        available_fonts = [f.name for f in fm.fontManager.ttflist]\n",
    "        \n",
    "        # 사용 가능한 첫 번째 한글 폰트 선택\n",
    "        selected_font = None\n",
    "        for font in korean_fonts:\n",
    "            if font in available_fonts:\n",
    "                selected_font = font\n",
    "                break\n",
    "        \n",
    "        if selected_font:\n",
    "            plt.rcParams['font.family'] = selected_font\n",
    "            print(f\"✅ 한글 폰트 설정 완료: {selected_font}\")\n",
    "        else:\n",
    "            # 한글 폰트가 없으면 영문으로 표시\n",
    "            plt.rcParams['font.family'] = 'DejaVu Sans'\n",
    "            print(\"⚠️ 한글 폰트를 찾을 수 없습니다. 영문으로 표시됩니다.\")\n",
    "            print(\"💡 한글 폰트 설치: sudo apt-get install fonts-noto-cjk\")\n",
    "            return False\n",
    "            \n",
    "        plt.rcParams['axes.unicode_minus'] = False\n",
    "        return True\n",
    "        \n",
    "    except Exception as e:\n",
    "        print(f\"❌ 폰트 설정 실패: {e}\")\n",
    "        return False\n"
   ]
  },
  {
   "cell_type": "code",
   "execution_count": 9,
   "metadata": {},
   "outputs": [
    {
     "name": "stdout",
     "output_type": "stream",
     "text": [
      "✅ 한글 폰트 설정 완료: NanumGothic\n"
     ]
    },
    {
     "data": {
      "image/png": "[encoded data removed]",
      "text/plain": [
       "<Figure size 1200x800 with 2 Axes>"
      ]
     },
     "metadata": {},
     "output_type": "display_data"
    },
    {
     "name": "stdout",
     "output_type": "stream",
     "text": [
      "📊 차트 생성 완료!\n"
     ]
    }
   ],
   "source": [
    "# 한글 폰트 설정 실행\n",
    "korean_font_available = setup_korean_font()\n",
    "\n",
    "try:\n",
    "    if btc_data is not None and btc_data.height > 0:\n",
    "        # pandas로 변환\n",
    "        df = btc_data.to_pandas()\n",
    "        \n",
    "        # 그래프 생성\n",
    "        fig, (ax1, ax2) = plt.subplots(2, 1, figsize=(12, 8), sharex=True)\n",
    "        \n",
    "        # 한글 폰트 사용 가능 여부에 따라 라벨 설정\n",
    "        if korean_font_available:\n",
    "            # 한글 라벨\n",
    "            title1 = '비트코인 가격 차트 (최근 3일, 1시간봉)'\n",
    "            ylabel1 = '가격 (원)'\n",
    "            label1 = 'BTC 종가'\n",
    "            label2 = '고저가 범위'\n",
    "            title2 = '거래량'\n",
    "            ylabel2 = '거래량'\n",
    "            xlabel = '시간'\n",
    "            label3 = '거래량'\n",
    "        else:\n",
    "            # 영문 라벨\n",
    "            title1 = 'Bitcoin Price Chart (Recent 3 days, 1h)'\n",
    "            ylabel1 = 'Price (KRW)'\n",
    "            label1 = 'BTC Close'\n",
    "            label2 = 'High-Low Range'\n",
    "            title2 = 'Volume'\n",
    "            ylabel2 = 'Volume'\n",
    "            xlabel = 'Time'\n",
    "            label3 = 'Volume'\n",
    "        \n",
    "        # 가격 차트\n",
    "        ax1.plot(df['timestamp'], df['close'], color='orange', linewidth=2, label=label1)\n",
    "        ax1.fill_between(df['timestamp'], df['low'], df['high'], alpha=0.3, color='lightblue', label=label2)\n",
    "        ax1.set_title(title1, fontsize=14, pad=20)\n",
    "        ax1.set_ylabel(ylabel1, fontsize=12)\n",
    "        ax1.legend()\n",
    "        ax1.grid(True, alpha=0.3)\n",
    "        ax1.yaxis.set_major_formatter(plt.FuncFormatter(lambda x, p: f'{x:,.0f}'))\n",
    "        \n",
    "        # 거래량 차트\n",
    "        ax2.bar(df['timestamp'], df['volume'], color='skyblue', alpha=0.7, label=label3)\n",
    "        ax2.set_title(title2, fontsize=12)\n",
    "        ax2.set_ylabel(ylabel2, fontsize=12)\n",
    "        ax2.set_xlabel(xlabel, fontsize=12)\n",
    "        ax2.legend()\n",
    "        ax2.grid(True, alpha=0.3)\n",
    "        \n",
    "        # x축 시간 포맷\n",
    "        ax2.xaxis.set_major_formatter(mdates.DateFormatter('%m-%d %H:%M'))\n",
    "        ax2.xaxis.set_major_locator(mdates.HourLocator(interval=6))\n",
    "        plt.xticks(rotation=45)\n",
    "        \n",
    "        plt.tight_layout()\n",
    "        plt.show()\n",
    "        \n",
    "        print(\"📊 차트 생성 완료!\")\n",
    "        if not korean_font_available:\n",
    "            print(\"💡 한글 폰트 설치 후 다시 실행하면 한글로 표시됩니다.\")\n",
    "    else:\n",
    "        print(\"❌ 시각화할 데이터가 없습니다.\")\n",
    "        \n",
    "except Exception as e:\n",
    "    print(f\"❌ 시각화 중 오류 발생: {e}\")"
   ]
  },
  {
   "cell_type": "code",
   "execution_count": 10,
   "metadata": {},
   "outputs": [
    {
     "name": "stdout",
     "output_type": "stream",
     "text": [
      "💾 캐시 시스템 정보:\n",
      "==================================================\n",
      "📁 캐시 디렉토리: data/upbit_cache\n",
      "📂 캐시 파일 수: 3개\n",
      "💿 총 캐시 크기: 0.02 MB\n",
      "\n",
      "🔄 캐시 동작 원리:\n",
      "1. 처음 API 호출 시 데이터가 로컬에 저장됩니다\n",
      "2. 동일한 데이터 재요청 시 캐시에서 빠르게 조회됩니다\n",
      "3. 누락된 기간만 추가로 API에서 가져옵니다\n",
      "4. 이를 통해 API 호출 수를 최소화하고 속도를 향상시킵니다\n"
     ]
    }
   ],
   "source": [
    "# 캐시 정보 확인\n",
    "cache_info = upbit_provider.get_cache_info()\n",
    "\n",
    "print(\"💾 캐시 시스템 정보:\")\n",
    "print(\"=\" * 50)\n",
    "print(f\"📁 캐시 디렉토리: {cache_info['cache_dir']}\")\n",
    "print(f\"📂 캐시 파일 수: {cache_info['cache_files_count']:,}개\")\n",
    "print(f\"💿 총 캐시 크기: {cache_info['cache_size_mb']:.2f} MB\")\n",
    "\n",
    "print(f\"\\n🔄 캐시 동작 원리:\")\n",
    "print(\"1. 처음 API 호출 시 데이터가 로컬에 저장됩니다\")\n",
    "print(\"2. 동일한 데이터 재요청 시 캐시에서 빠르게 조회됩니다\")\n",
    "print(\"3. 누락된 기간만 추가로 API에서 가져옵니다\")\n",
    "print(\"4. 이를 통해 API 호출 수를 최소화하고 속도를 향상시킵니다\")\n"
   ]
  },
  {
   "cell_type": "code",
   "execution_count": 11,
   "metadata": {},
   "outputs": [
    {
     "name": "stdout",
     "output_type": "stream",
     "text": [
      "🔍 예제 1: 주요 암호화폐 최신 가격 비교\n",
      "--------------------------------------------------\n",
      "  🔍 API 요청 준비: KRW-BTC 1m\n",
      "    📅 요청 기간: 2025-06-05 18:29:40 ~ 2025-06-05 19:29:40\n",
      "    📊 예상 캔들 수: 60개 (기간: 1.0시간)\n"
     ]
    },
    {
     "name": "stderr",
     "output_type": "stream",
     "text": [
      "                                                                                           \r"
     ]
    },
    {
     "name": "stdout",
     "output_type": "stream",
     "text": [
      "   BTC: 144,708,000원\n",
      "  🔍 API 요청 준비: KRW-ETH 1m\n",
      "    📅 요청 기간: 2025-06-05 18:29:40 ~ 2025-06-05 19:29:40\n",
      "    📊 예상 캔들 수: 60개 (기간: 1.0시간)\n"
     ]
    },
    {
     "name": "stderr",
     "output_type": "stream",
     "text": [
      "                                                                                           \r"
     ]
    },
    {
     "name": "stdout",
     "output_type": "stream",
     "text": [
      "   ETH: 3,601,000원\n",
      "  🔍 API 요청 준비: KRW-XRP 1m\n",
      "    📅 요청 기간: 2025-06-05 18:29:40 ~ 2025-06-05 19:29:40\n",
      "    📊 예상 캔들 수: 60개 (기간: 1.0시간)\n"
     ]
    },
    {
     "name": "stderr",
     "output_type": "stream",
     "text": [
      "                                                                                           \r"
     ]
    },
    {
     "name": "stdout",
     "output_type": "stream",
     "text": [
      "   XRP: 3,037원\n",
      "\n",
      "🔍 예제 2: 다양한 시간프레임 지원\n",
      "--------------------------------------------------\n",
      "  🔍 API 요청 준비: KRW-BTC 1m\n",
      "    📅 요청 기간: 2025-06-04 19:29:40 ~ 2025-06-05 19:29:40\n",
      "    📊 예상 캔들 수: 1440개 (기간: 24.0시간)\n"
     ]
    },
    {
     "name": "stderr",
     "output_type": "stream",
     "text": [
      "                                                                                           \r"
     ]
    },
    {
     "name": "stdout",
     "output_type": "stream",
     "text": [
      "   5m: 78개 캔들 (최근 1일)\n",
      "  🔍 API 요청 준비: KRW-BTC 1m\n",
      "    📅 요청 기간: 2025-06-03 19:29:40 ~ 2025-06-05 19:29:40\n",
      "    📊 예상 캔들 수: 2880개 (기간: 48.0시간)\n"
     ]
    },
    {
     "name": "stderr",
     "output_type": "stream",
     "text": [
      "                                                                                          \r"
     ]
    },
    {
     "name": "stdout",
     "output_type": "stream",
     "text": [
      "   15m: 26개 캔들 (최근 2일)\n",
      "  🔍 API 요청 준비: KRW-BTC 1m\n",
      "    📅 요청 기간: 2025-05-29 19:29:40 ~ 2025-06-05 19:29:40\n",
      "    📊 예상 캔들 수: 10080개 (기간: 168.0시간)\n"
     ]
    },
    {
     "name": "stderr",
     "output_type": "stream",
     "text": [
      "                                                                                          \r"
     ]
    },
    {
     "name": "stdout",
     "output_type": "stream",
     "text": [
      "   1h: 7개 캔들 (최근 7일)\n",
      "  🔍 API 요청 준비: KRW-BTC 1m\n",
      "    📅 요청 기간: 2025-05-06 19:29:40 ~ 2025-06-05 19:29:40\n",
      "    📊 예상 캔들 수: 43200개 (기간: 720.0시간)\n"
     ]
    },
    {
     "name": "stderr",
     "output_type": "stream",
     "text": [
      "                                                                                                  "
     ]
    },
    {
     "name": "stdout",
     "output_type": "stream",
     "text": [
      "   4h: 2개 캔들 (최근 30일)\n"
     ]
    },
    {
     "name": "stderr",
     "output_type": "stream",
     "text": [
      "\r"
     ]
    }
   ],
   "source": [
    "# 여러 암호화폐와 다양한 시간프레임 예제\n",
    "async def advanced_examples():\n",
    "    \"\"\"다양한 데이터 조회 예제\"\"\"\n",
    "    \n",
    "    async with upbit_provider:\n",
    "        print(\"🔍 예제 1: 주요 암호화폐 최신 가격 비교\")\n",
    "        print(\"-\" * 50)\n",
    "        \n",
    "        # 여러 코인의 최신 가격\n",
    "        major_coins = [\"KRW-BTC\", \"KRW-ETH\", \"KRW-XRP\"]\n",
    "        end_date = datetime.now()\n",
    "        start_date = end_date - timedelta(hours=1)  # 최근 1시간\n",
    "        \n",
    "        for symbol in major_coins:\n",
    "            try:\n",
    "                data = await upbit_provider.get_data(\n",
    "                    symbols=[symbol],\n",
    "                    start=start_date,\n",
    "                    end=end_date,\n",
    "                    timeframe=\"1m\"  # 1분봉으로 최신 데이터\n",
    "                )\n",
    "                \n",
    "                if data.height > 0:\n",
    "                    latest_price = data.tail(1).select(\"close\").item()\n",
    "                    coin_name = symbol.replace(\"KRW-\", \"\")\n",
    "                    print(f\"   {coin_name}: {latest_price:,.0f}원\")\n",
    "                \n",
    "            except Exception as e:\n",
    "                print(f\"   {symbol}: 조회 실패 - {e}\")\n",
    "        \n",
    "        print(f\"\\n🔍 예제 2: 다양한 시간프레임 지원\")\n",
    "        print(\"-\" * 50)\n",
    "        \n",
    "        # 지원되는 시간프레임들\n",
    "        timeframes = [\"5m\", \"15m\", \"1h\", \"4h\"]\n",
    "        \n",
    "        for tf in timeframes:\n",
    "            try:\n",
    "                days_back = {\"5m\": 1, \"15m\": 2, \"1h\": 7, \"4h\": 30}.get(tf, 7)\n",
    "                start_date = datetime.now() - timedelta(days=days_back)\n",
    "                \n",
    "                data = await upbit_provider.get_data(\n",
    "                    symbols=[\"KRW-BTC\"],\n",
    "                    start=start_date,\n",
    "                    end=datetime.now(),\n",
    "                    timeframe=tf\n",
    "                )\n",
    "                \n",
    "                if data.height > 0:\n",
    "                    print(f\"   {tf}: {data.height}개 캔들 (최근 {days_back}일)\")\n",
    "                \n",
    "            except Exception as e:\n",
    "                print(f\"   {tf}: 조회 실패 - {e}\")\n",
    "\n",
    "# 고급 예제 실행\n",
    "await advanced_examples()\n"
   ]
  },
  {
   "cell_type": "code",
   "execution_count": null,
   "metadata": {},
   "outputs": [],
   "source": []
  }
 ],
 "metadata": {
  "kernelspec": {
   "display_name": "venv",
   "language": "python",
   "name": "python3"
  },
  "language_info": {
   "codemirror_mode": {
    "name": "ipython",
    "version": 3
   },
   "file_extension": ".py",
   "mimetype": "text/x-python",
   "name": "python",
   "nbconvert_exporter": "python",
   "pygments_lexer": "ipython3",
   "version": "3.12.3"
  }
 },
 "nbformat": 4,
 "nbformat_minor": 2
}
